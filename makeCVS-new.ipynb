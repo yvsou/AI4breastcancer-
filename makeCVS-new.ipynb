{
 "cells": [
  {
   "cell_type": "code",
   "execution_count": 3,
   "metadata": {},
   "outputs": [
    {
     "name": "stdout",
     "output_type": "stream",
     "text": [
      "7909\n",
      "written finished into csv file: tf2breakhisnewCSV\n"
     ]
    }
   ],
   "source": [
    "# makeCVS-new.ipynb  v1.0.0 \n",
    "# \n",
    "#  --------------------------------------------------\n",
    "#  Hangzhou Domain Zones Technology Co., Ltd\n",
    "\n",
    "#  Apache Licence 2.0       https://www.apache.org/licenses/LICENSE-2.0\n",
    "#  --------------------------------------------------\n",
    "\n",
    "\n",
    "import os,glob\n",
    "import csv\n",
    "import random\n",
    "\n",
    "def make_CSV(dirc, filename):\n",
    "    classdir2label={}\n",
    "    classdirname={}\n",
    "     \n",
    "    filedirs = os.listdir( dirc)\n",
    "    for filedir in filedirs:\n",
    "        if not os.path.isdir(os.path.join(dirc,filedir)):\n",
    "            continue\n",
    "        classdir2label[filedir]=len(classdir2label.keys())\n",
    "        classdirname[filedir]= filedir\n",
    "    if os.path.exists(filename):\n",
    "        os.remove(filename)\n",
    "    images = []\n",
    "    for dirname in classdir2label.keys():\n",
    "        images += glob.glob(os.path.join(dirc,dirname,'*.png'))\n",
    "        images += glob.glob(os.path.join(dirc,dirname,'*.jpg'))\n",
    "        images += glob.glob(os.path.join(dirc,dirname,'*.jpeg'))\n",
    "        \n",
    "    print(len(images))\n",
    "    for i in range(5000):    \n",
    "        random.shuffle(images)\n",
    "    \n",
    "    with open(os.path.join(dirc,filename),mode='w',newline='') as f:\n",
    "        write =csv.writer(f)\n",
    "        for img in images:\n",
    "            name = img.split(os.sep)[-2]\n",
    "            label = classdir2label[name]\n",
    "            cancername = classdirname[name]\n",
    "            write.writerow([img,label,cancername])\n",
    "            \n",
    "        print('written finished into csv file:',filename)\n",
    "        \n",
    "        \n",
    "make_CSV(os.path.join(os.path.abspath('.'),'tf2breakhis'), \"tf2breakhisnewCSV\")    \n",
    "    \n",
    " "
   ]
  },
  {
   "cell_type": "code",
   "execution_count": null,
   "metadata": {},
   "outputs": [],
   "source": []
  }
 ],
 "metadata": {
  "kernelspec": {
   "display_name": "Python 3",
   "language": "python",
   "name": "python3"
  },
  "language_info": {
   "codemirror_mode": {
    "name": "ipython",
    "version": 3
   },
   "file_extension": ".py",
   "mimetype": "text/x-python",
   "name": "python",
   "nbconvert_exporter": "python",
   "pygments_lexer": "ipython3",
   "version": "3.7.3"
  }
 },
 "nbformat": 4,
 "nbformat_minor": 2
}
